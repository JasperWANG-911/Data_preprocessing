{
 "cells": [
  {
   "cell_type": "code",
   "execution_count": null,
   "id": "initial_id",
   "metadata": {
    "collapsed": true
   },
   "outputs": [],
   "source": [
    "from ultralytics import YOLO\n",
    "import os"
   ]
  },
  {
   "metadata": {},
   "cell_type": "code",
   "outputs": [],
   "execution_count": null,
   "source": [
    "# Create folders for results\n",
    "output_folder_v8, output_folder_v11 = \"output_results_v8\", \"output_folder_v11\"\n",
    "os.makedirs(output_folder_v8, exist_ok=True)\n",
    "os.makedirs(output_folder_v11, exist_ok=True)\n",
    "\n",
    "# Load YOLOv8 and YOLOv11\n",
    "model_v8 = YOLO('v8.1/detect/train/weights/best.pt')\n",
    "model_v11 = YOLO('v11.1/weights/best.pt')\n",
    "\n",
    "file_count = len(os.listdir('test_images'))\n",
    "\n",
    "# objective detection with YOLOv8\n",
    "for i in range(1, file_count):\n",
    "\n",
    "    file_path = os.path.join('test_images', f'image{i}.png')\n",
    "    result_v8 = model_v8(file_path)\n",
    "\n",
    "    # save results to output_folder\n",
    "    for j, pred in enumerate(result_v8):\n",
    "        save_path = os.path.join(output_folder_v8, f\"result_v8_{i}.png\")\n",
    "        pred.plot()\n",
    "        pred.save(save_path)\n",
    "        print(f\"Saved YOLOv8 prediction to {save_path}\")\n",
    "\n",
    "# objective detection with YOLOv11\n",
    "for i in range(1, file_count):\n",
    "\n",
    "    # objective detection\n",
    "    file_path = os.path.join('test_images', f'image{i}.png')\n",
    "    result_v11 = model_v11(file_path)\n",
    "\n",
    "    # save results to output_folder\n",
    "    for j, pred in enumerate(result_v11):\n",
    "        save_path = os.path.join(output_folder_v11, f\"result_v11_{i}.png\")\n",
    "        pred.plot()\n",
    "        pred.save(save_path)\n",
    "        print(f\"Saved YOLOv8 prediction to {save_path}\")"
   ],
   "id": "d681e52d958c5f1f"
  }
 ],
 "metadata": {
  "kernelspec": {
   "display_name": "Python 3",
   "language": "python",
   "name": "python3"
  },
  "language_info": {
   "codemirror_mode": {
    "name": "ipython",
    "version": 2
   },
   "file_extension": ".py",
   "mimetype": "text/x-python",
   "name": "python",
   "nbconvert_exporter": "python",
   "pygments_lexer": "ipython2",
   "version": "2.7.6"
  }
 },
 "nbformat": 4,
 "nbformat_minor": 5
}
